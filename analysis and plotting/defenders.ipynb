{
  "nbformat": 4,
  "nbformat_minor": 0,
  "metadata": {
    "colab": {
      "provenance": []
    },
    "kernelspec": {
      "name": "python3",
      "display_name": "Python 3"
    },
    "language_info": {
      "name": "python"
    }
  },
  "cells": [
    {
      "cell_type": "code",
      "execution_count": null,
      "metadata": {
        "id": "fGkHvz-R7LnR"
      },
      "outputs": [],
      "source": [
        "import seaborn as sns\n",
        "import matplotlib.pyplot as plt"
      ]
    },
    {
      "cell_type": "code",
      "source": [
        "defense_stats['Performance'] = defense_stats['Tkl+Int'].astype(int) + defense_stats['1/3'].astype(int)"
      ],
      "metadata": {
        "id": "b_Jdbds07ThG"
      },
      "execution_count": null,
      "outputs": []
    },
    {
      "cell_type": "code",
      "source": [
        "sns.set(style=\"whitegrid\")\n",
        "defense_stats['Age'] = pd.to_numeric(defense_stats['Age'], errors='coerce')\n",
        "defense_stats['Age_Delta'] = defense_stats.groupby('Player')['Age'].diff()\n",
        "\n",
        "relevant_columns = ['Player', 'Age', 'Performance']\n",
        "defense_analysis = defense_stats[relevant_columns]\n",
        "\n",
        "# Calculate Deltas for performance metrics\n",
        "performance_metrics = ['Performance']  # Add other metrics as needed\n",
        "\n",
        "for metric in performance_metrics:\n",
        "    defense_analysis[f'{metric}_Delta'] = defense_stats.groupby('Player')[metric].diff()\n",
        "\n",
        "# Plotting\n",
        "plt.figure(figsize=(12, 8))\n",
        "\n",
        "# Calculate average deltas for each age\n",
        "average_deltas = defense_analysis.groupby('Age')['Performance_Delta'].mean().reset_index()\n",
        "\n",
        "# Apply a moving average to the average deltas\n",
        "window_size = 5  # Adjust the window size as needed\n",
        "average_deltas['Smoothed_Performance_Delta'] = average_deltas['Performance_Delta'].rolling(window=window_size, center=True).mean()\n",
        "\n",
        "# Plot only the smoothed curve\n",
        "plt.plot(average_deltas['Age'], average_deltas['Smoothed_Performance_Delta'], label=f'Smoothed Average Change (Window Size {window_size})', color='red')\n",
        "\n",
        "plt.title('How Average Defender Performance Changes with Age')\n",
        "plt.xlabel('Age')\n",
        "plt.ylabel('Average Performance Change')\n",
        "plt.legend()\n",
        "plt.show()"
      ],
      "metadata": {
        "id": "w-0qv4Zh7ZfC"
      },
      "execution_count": null,
      "outputs": []
    },
    {
      "cell_type": "code",
      "source": [
        "plt.figure(figsize=(12, 8))\n",
        "\n",
        "# Plot average performance changes over age using a bar chart\n",
        "bar_width = 0.35\n",
        "bar_positions_goals = average_deltas['Age'] - bar_width\n",
        "bar_positions_assists = average_deltas['Age'] + bar_width\n",
        "\n",
        "plt.bar(bar_positions_assists, average_deltas['Performance_Delta'], width=bar_width, label='Average Change in Performance', color='green')\n",
        "\n",
        "plt.title('How Average Defender Performance Changes with Age')\n",
        "plt.xlabel('Age')\n",
        "plt.ylabel('Average Performance Change')\n",
        "plt.legend()\n",
        "plt.show()"
      ],
      "metadata": {
        "id": "QOlu6Uf67ogw"
      },
      "execution_count": null,
      "outputs": []
    },
    {
      "cell_type": "code",
      "source": [
        "sns.set(style=\"whitegrid\")\n",
        "metrics_to_plot = ['Performance']  # Add more metrics if needed\n",
        "\n",
        "# Calculate the average performance for all players at each age\n",
        "average_stats_by_age = defense_stats.groupby('Age')[metrics_to_plot].mean().reset_index()\n",
        "\n",
        "# Apply a moving average to the average performance\n",
        "window_size = 5 # Adjust the window size as needed\n",
        "average_stats_by_age['Smoothed_Performance'] = average_stats_by_age['Performance'].rolling(window=window_size, center=True).mean()\n",
        "\n",
        "# Plot the smoothed curve\n",
        "for metric in metrics_to_plot:\n",
        "    plt.figure(figsize=(10, 6))\n",
        "    sns.lineplot(data=average_stats_by_age, x='Age', y='Smoothed_Performance', ci=None, marker='o', label=f'Smoothed Average {metric} (Window Size {window_size})')\n",
        "    plt.title(f'Average {metric} for Defenders by Age')\n",
        "    plt.xlabel('Age')\n",
        "    plt.ylabel(f'Average {metric}')\n",
        "    plt.legend()\n",
        "    plt.show()"
      ],
      "metadata": {
        "id": "vKeNm6z57sEv"
      },
      "execution_count": null,
      "outputs": []
    }
  ]
}