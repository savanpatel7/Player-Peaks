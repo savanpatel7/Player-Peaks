{
  "nbformat": 4,
  "nbformat_minor": 0,
  "metadata": {
    "colab": {
      "provenance": []
    },
    "kernelspec": {
      "name": "python3",
      "display_name": "Python 3"
    },
    "language_info": {
      "name": "python"
    }
  },
  "cells": [
    {
      "cell_type": "code",
      "execution_count": null,
      "metadata": {
        "id": "qwlU3u5g1mch"
      },
      "outputs": [],
      "source": [
        "import seaborn as sns\n",
        "import matplotlib.pyplot as plt"
      ]
    },
    {
      "cell_type": "code",
      "source": [
        "midfield_stats['Performance'] = (midfield_stats['PrgC'].astype(int) + midfield_stats['PrgP'].astype(int) + midfield_stats['Tkl+Int'].astype(int)\n",
        "                                  + midfield_stats['1/3'].astype(int) + midfield_stats['PPA'].astype(int))\n"
      ],
      "metadata": {
        "id": "JsdCVJ5D1ztf"
      },
      "execution_count": null,
      "outputs": []
    },
    {
      "cell_type": "code",
      "source": [
        "sns.set(style=\"whitegrid\")\n",
        "midfield_stats['Age'] = pd.to_numeric(midfield_stats['Age'], errors='coerce')\n",
        "midfield_stats['Age_Delta'] = midfield_stats.groupby('Player')['Age'].diff()\n",
        "\n",
        "relevant_columns = ['Player', 'Age', 'Performance']\n",
        "midfield_analysis = midfield_stats[relevant_columns]\n",
        "\n",
        "\n",
        "# Calculate Deltas for performance metrics\n",
        "performance_metrics = ['Performance']  # Add other metrics as needed\n",
        "\n",
        "for metric in performance_metrics:\n",
        "    midfield_analysis[f'{metric}_Delta'] = midfield_stats.groupby('Player')[metric].diff()\n",
        "\n",
        "# Plotting\n",
        "plt.figure(figsize=(12, 8))\n",
        "\n",
        "# Calculate average deltas for each age\n",
        "average_deltas = midfield_analysis.groupby('Age')['Performance_Delta'].mean().reset_index()\n",
        "\n",
        "# Apply a moving average to the average deltas\n",
        "window_size = 3  # Adjust the window size as needed\n",
        "average_deltas['Smoothed_Performance_Delta'] = average_deltas['Performance_Delta'].rolling(window=window_size, center=True).mean()\n",
        "\n",
        "# Plot only the smoothed curve\n",
        "plt.plot(average_deltas['Age'], average_deltas['Smoothed_Performance_Delta'], label=f'Smoothed Average Change (Window Size {window_size})', color='red')\n",
        "\n",
        "plt.title('How Average Midfielder Performance Changes with Age')\n",
        "plt.xlabel('Age')\n",
        "plt.ylabel('Average Performance Change')\n",
        "plt.legend()\n",
        "plt.show()"
      ],
      "metadata": {
        "colab": {
          "base_uri": "https://localhost:8080/",
          "height": 245
        },
        "id": "Sy-Z-ucwGo4R",
        "outputId": "0e98db1c-ce95-4347-c0ad-f3a981ac9b9d"
      },
      "execution_count": 1,
      "outputs": [
        {
          "output_type": "error",
          "ename": "NameError",
          "evalue": "name 'sns' is not defined",
          "traceback": [
            "\u001b[0;31m---------------------------------------------------------------------------\u001b[0m",
            "\u001b[0;31mNameError\u001b[0m                                 Traceback (most recent call last)",
            "\u001b[0;32m<ipython-input-1-797d63313092>\u001b[0m in \u001b[0;36m<cell line: 1>\u001b[0;34m()\u001b[0m\n\u001b[0;32m----> 1\u001b[0;31m \u001b[0msns\u001b[0m\u001b[0;34m.\u001b[0m\u001b[0mset\u001b[0m\u001b[0;34m(\u001b[0m\u001b[0mstyle\u001b[0m\u001b[0;34m=\u001b[0m\u001b[0;34m\"whitegrid\"\u001b[0m\u001b[0;34m)\u001b[0m\u001b[0;34m\u001b[0m\u001b[0;34m\u001b[0m\u001b[0m\n\u001b[0m\u001b[1;32m      2\u001b[0m \u001b[0mmidfield_stats\u001b[0m\u001b[0;34m[\u001b[0m\u001b[0;34m'Age'\u001b[0m\u001b[0;34m]\u001b[0m \u001b[0;34m=\u001b[0m \u001b[0mpd\u001b[0m\u001b[0;34m.\u001b[0m\u001b[0mto_numeric\u001b[0m\u001b[0;34m(\u001b[0m\u001b[0mmidfield_stats\u001b[0m\u001b[0;34m[\u001b[0m\u001b[0;34m'Age'\u001b[0m\u001b[0;34m]\u001b[0m\u001b[0;34m,\u001b[0m \u001b[0merrors\u001b[0m\u001b[0;34m=\u001b[0m\u001b[0;34m'coerce'\u001b[0m\u001b[0;34m)\u001b[0m\u001b[0;34m\u001b[0m\u001b[0;34m\u001b[0m\u001b[0m\n\u001b[1;32m      3\u001b[0m \u001b[0mmidfield_stats\u001b[0m\u001b[0;34m[\u001b[0m\u001b[0;34m'Age_Delta'\u001b[0m\u001b[0;34m]\u001b[0m \u001b[0;34m=\u001b[0m \u001b[0mmidfield_stats\u001b[0m\u001b[0;34m.\u001b[0m\u001b[0mgroupby\u001b[0m\u001b[0;34m(\u001b[0m\u001b[0;34m'Player'\u001b[0m\u001b[0;34m)\u001b[0m\u001b[0;34m[\u001b[0m\u001b[0;34m'Age'\u001b[0m\u001b[0;34m]\u001b[0m\u001b[0;34m.\u001b[0m\u001b[0mdiff\u001b[0m\u001b[0;34m(\u001b[0m\u001b[0;34m)\u001b[0m\u001b[0;34m\u001b[0m\u001b[0;34m\u001b[0m\u001b[0m\n\u001b[1;32m      4\u001b[0m \u001b[0;34m\u001b[0m\u001b[0m\n\u001b[1;32m      5\u001b[0m \u001b[0mrelevant_columns\u001b[0m \u001b[0;34m=\u001b[0m \u001b[0;34m[\u001b[0m\u001b[0;34m'Player'\u001b[0m\u001b[0;34m,\u001b[0m \u001b[0;34m'Age'\u001b[0m\u001b[0;34m,\u001b[0m \u001b[0;34m'Performance'\u001b[0m\u001b[0;34m]\u001b[0m\u001b[0;34m\u001b[0m\u001b[0;34m\u001b[0m\u001b[0m\n",
            "\u001b[0;31mNameError\u001b[0m: name 'sns' is not defined"
          ]
        }
      ]
    },
    {
      "cell_type": "code",
      "source": [
        "plt.figure(figsize=(12, 8))\n",
        "\n",
        "# Plot average performance changes over age using a bar chart\n",
        "bar_width = 0.35\n",
        "bar_positions_goals = average_deltas['Age'] - bar_width\n",
        "bar_positions_assists = average_deltas['Age'] + bar_width\n",
        "\n",
        "plt.bar(bar_positions_assists, average_deltas['Performance_Delta'], width=bar_width, label='Average Change in Performance', color='red')\n",
        "\n",
        "plt.title('How Average Midfield Performance Changes with Age')\n",
        "plt.xlabel('Age')\n",
        "plt.ylabel('Average Performance Change')\n",
        "plt.legend()\n",
        "plt.show()"
      ],
      "metadata": {
        "id": "nEFk5roF7EVN"
      },
      "execution_count": null,
      "outputs": []
    },
    {
      "cell_type": "code",
      "source": [
        "sns.set(style=\"whitegrid\")\n",
        "\n",
        "# Choose the performance metrics to plot\n",
        "metrics_to_plot = ['Performance']  # Add more metrics if needed\n",
        "\n",
        "# Calculate the average performance for all players at each age\n",
        "average_stats_by_age = midfield_stats.groupby('Age')[metrics_to_plot].mean().reset_index()\n",
        "\n",
        "# Apply a moving average to the average performance\n",
        "window_size = 5  # Adjust the window size as needed\n",
        "average_stats_by_age['Smoothed_Performance'] = average_stats_by_age['Performance'].rolling(window=window_size, center=True).mean()\n",
        "\n",
        "# Plot the smoothed curve\n",
        "for metric in metrics_to_plot:\n",
        "    plt.figure(figsize=(10, 6))\n",
        "    sns.lineplot(data=average_stats_by_age, x='Age', y='Smoothed_Performance', ci=None, marker='o', label=f'Smoothed Average {metric} (Window Size {window_size})')\n",
        "    plt.title(f'Average {metric} for Midfielders by Age')\n",
        "    plt.xlabel('Age')\n",
        "    plt.ylabel(f'Average {metric}')\n",
        "    plt.legend()\n",
        "    plt.show()"
      ],
      "metadata": {
        "id": "_JwtI0077F4v"
      },
      "execution_count": null,
      "outputs": []
    }
  ]
}