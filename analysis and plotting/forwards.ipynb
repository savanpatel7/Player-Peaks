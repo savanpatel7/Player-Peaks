{
  "nbformat": 4,
  "nbformat_minor": 0,
  "metadata": {
    "colab": {
      "provenance": []
    },
    "kernelspec": {
      "name": "python3",
      "display_name": "Python 3"
    },
    "language_info": {
      "name": "python"
    }
  },
  "cells": [
    {
      "cell_type": "code",
      "source": [
        "import seaborn as sns\n",
        "import matplotlib.pyplot as plt\n"
      ],
      "metadata": {
        "id": "v63IUa7r1LJq"
      },
      "execution_count": null,
      "outputs": []
    },
    {
      "cell_type": "code",
      "execution_count": null,
      "metadata": {
        "id": "7idZDtRmz7vU"
      },
      "outputs": [],
      "source": [
        "forward_stats['Performance'] = forward_stats['G+A'].astype(int) + forward_stats['SCA'].astype(int) + forward_stats['GCA'].astype(int)"
      ]
    },
    {
      "cell_type": "code",
      "source": [
        "# Set seaborn style\n",
        "sns.set(style=\"whitegrid\")\n",
        "\n",
        "# Convert 'Age' to numeric, handling errors by coercing to NaN\n",
        "forward_stats['Age'] = pd.to_numeric(forward_stats['Age'], errors='coerce')\n",
        "\n",
        "# Calculate age deltas\n",
        "forward_stats['Age_Delta'] = forward_stats.groupby('Player')['Age'].diff()\n",
        "\n",
        "# Relevant columns for analysis\n",
        "relevant_columns = ['Player', 'Age', 'Performance']\n",
        "forward_analysis = forward_stats[relevant_columns]\n",
        "\n",
        "# Calculate Deltas for performance metrics\n",
        "performance_metrics = ['Performance']\n",
        "\n",
        "for metric in performance_metrics:\n",
        "    forward_analysis[f'{metric}_Delta'] = forward_stats.groupby('Player')[metric].diff()\n",
        "\n",
        "# Plotting\n",
        "plt.figure(figsize=(12, 8))\n",
        "\n",
        "# Calculate average deltas for each age\n",
        "average_deltas = forward_analysis.groupby('Age')['Performance_Delta'].mean().reset_index()\n",
        "\n",
        "# Apply a moving average to the average deltas\n",
        "window_size = 4 # Adjust the window size as needed\n",
        "average_deltas['Smoothed_Performance_Delta'] = average_deltas['Performance_Delta'].rolling(window=window_size, center=True).mean()\n",
        "\n",
        "# Plot average performance changes over age and the smoothed curve\n",
        "\n",
        "plt.plot(average_deltas['Age'], average_deltas['Smoothed_Performance_Delta'], label=f'Smoothed Average Change (Window Size {window_size})', color='red')\n",
        "\n",
        "plt.title('How Average Forward Performance Changes with Age')\n",
        "plt.xlabel('Age')\n",
        "plt.ylabel('Average Performance Change')\n",
        "plt.legend()\n",
        "plt.show()\n"
      ],
      "metadata": {
        "id": "y8fXfpul1Prq"
      },
      "execution_count": null,
      "outputs": []
    },
    {
      "cell_type": "code",
      "source": [
        "plt.figure(figsize=(12, 8))\n",
        "\n",
        "# Plot average performance changes over age using a bar chart\n",
        "bar_width = 0.35\n",
        "bar_positions_goals = average_deltas['Age'] - bar_width / 2\n",
        "bar_positions_assists = average_deltas['Age'] + bar_width / 2\n",
        "\n",
        "plt.bar(bar_positions_assists, average_deltas['Performance_Delta'], width=bar_width, label='Average Change in Performance', color='orange')\n",
        "\n",
        "plt.title('How Average Forward Performance Changes with Age')\n",
        "plt.xlabel('Age')\n",
        "plt.ylabel('Average Performance Change')\n",
        "plt.legend()\n",
        "plt.show()"
      ],
      "metadata": {
        "id": "ojhx4KND1QRV"
      },
      "execution_count": null,
      "outputs": []
    },
    {
      "cell_type": "code",
      "source": [
        "sns.set(style=\"whitegrid\")\n",
        "\n",
        "# Choose the performance metrics to plot\n",
        "metrics_to_plot = ['Performance']  # Add more metrics if needed\n",
        "\n",
        "# Calculate the average performance for all players at each age\n",
        "average_stats_by_age = forward_stats.groupby('Age')[metrics_to_plot].mean().reset_index()\n",
        "\n",
        "# Apply a moving average to the average performance\n",
        "window_size = 5  # Adjust the window size as needed\n",
        "average_stats_by_age['Smoothed_Performance'] = average_stats_by_age['Performance'].rolling(window=window_size, center=True).mean()\n",
        "\n",
        "# Plot the smoothed curve\n",
        "for metric in metrics_to_plot:\n",
        "    plt.figure(figsize=(10, 6))\n",
        "    sns.lineplot(data=average_stats_by_age, x='Age', y='Smoothed_Performance', ci=None, marker='o', label=f'Smoothed Average {metric} (Window Size {window_size})')\n",
        "    plt.title(f'Average {metric} for Forwards by Age')\n",
        "    plt.xlabel('Age')\n",
        "    plt.ylabel(f'Average {metric}')\n",
        "    plt.legend()\n",
        "    plt.show()"
      ],
      "metadata": {
        "id": "lWZh3iRm1SHN"
      },
      "execution_count": null,
      "outputs": []
    }
  ]
}